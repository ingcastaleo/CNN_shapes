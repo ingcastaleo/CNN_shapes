{
 "cells": [
  {
   "cell_type": "markdown",
   "id": "5ca60e52",
   "metadata": {},
   "source": [
    "# Instalar requerimientos"
   ]
  },
  {
   "cell_type": "markdown",
   "id": "aedf1c92",
   "metadata": {},
   "source": [
    "## Instalar modulos si no existen"
   ]
  },
  {
   "cell_type": "code",
   "execution_count": 79,
   "id": "f79b9a68",
   "metadata": {},
   "outputs": [],
   "source": [
    "import os\n",
    "os.system(r'\"C:\\Program Files\\Python313\\python.exe\" -m pip install --upgrade pip')\n",
    "!pip install --quiet numpy\n",
    "!pip install --quiet matplotlib\n",
    "!pip install --quiet torch\n",
    "!pip install --quiet torchvision\n",
    "!pip install --quiet kagglehub"
   ]
  },
  {
   "cell_type": "markdown",
   "id": "e520a28a",
   "metadata": {},
   "source": [
    "## Importar librerias"
   ]
  },
  {
   "cell_type": "code",
   "execution_count": null,
   "id": "3b294c56",
   "metadata": {},
   "outputs": [],
   "source": [
    "import numpy as np\n",
    "import matplotlib.pyplot as plt\n",
    "from torchvision import transforms\n",
    "import torch\n",
    "from torch.autograd import Variable\n",
    "import torch.nn as nn\n",
    "import torch.nn.functional as F\n",
    "from torch import optim\n",
    "from torchvision.datasets import ImageFolder\n",
    "from torch.utils.data import Dataset,DataLoader\n",
    "import kagglehub\n",
    "import tqdm as notebook_tqdm\n",
    "from random import shuffle\n",
    "from math import floor\n",
    "import shutil"
   ]
  },
  {
   "cell_type": "markdown",
   "id": "e0fafa0f",
   "metadata": {},
   "source": [
    "## Habilitar cuda si está disponible"
   ]
  },
  {
   "cell_type": "code",
   "execution_count": null,
   "id": "690eef65",
   "metadata": {},
   "outputs": [],
   "source": [
    "is_cuda = False\n",
    "if torch.cuda.is_available():\n",
    "    is_cuda = True"
   ]
  },
  {
   "cell_type": "markdown",
   "id": "db400167",
   "metadata": {},
   "source": [
    "# Cargar Dataset"
   ]
  },
  {
   "cell_type": "markdown",
   "id": "c212060f",
   "metadata": {},
   "source": [
    "## Definir funciones"
   ]
  },
  {
   "cell_type": "markdown",
   "id": "1415049c",
   "metadata": {},
   "source": [
    "### Copiar todo el contenido del folder de descarga por default del dataset de kaggle"
   ]
  },
  {
   "cell_type": "code",
   "execution_count": null,
   "id": "7b9278b5",
   "metadata": {},
   "outputs": [],
   "source": [
    "def copy_all_contents(path1, path2):\n",
    "    if not os.path.exists(path2):\n",
    "        os.makedirs(path2)\n",
    "    \n",
    "    for item in os.listdir(path1):\n",
    "        src = os.path.join(path1, item)\n",
    "        dst = os.path.join(path2, item)\n",
    "        if os.path.isdir(src):\n",
    "            shutil.copytree(src, dst, dirs_exist_ok=True)\n",
    "        else:\n",
    "            shutil.copy2(src, dst)"
   ]
  },
  {
   "cell_type": "code",
   "execution_count": null,
   "id": "bae1d9e4",
   "metadata": {},
   "outputs": [
    {
     "name": "stdout",
     "output_type": "stream",
     "text": [
      "Downloading from https://www.kaggle.com/api/v1/datasets/download/smeschke/four-shapes?dataset_version_number=2...\n"
     ]
    },
    {
     "name": "stderr",
     "output_type": "stream",
     "text": [
      "100%|██████████| 21.6M/21.6M [00:00<00:00, 25.6MB/s]"
     ]
    },
    {
     "name": "stdout",
     "output_type": "stream",
     "text": [
      "Extracting files...\n"
     ]
    },
    {
     "name": "stderr",
     "output_type": "stream",
     "text": [
      "\n"
     ]
    },
    {
     "name": "stdout",
     "output_type": "stream",
     "text": [
      "Path to dataset files: C:\\Users\\casta\\.cache\\kagglehub\\datasets\\smeschke\\four-shapes\\versions\\2\n"
     ]
    }
   ],
   "source": [
    "# Download latest version\n",
    "dataset_folder = os.path.join(os.getcwd(), \"dataset_raw\")\n",
    "path = kagglehub.dataset_download(\"smeschke/four-shapes\", force_download=True)\n",
    "\n",
    "print(\"Path to dataset files:\", path)\n",
    "copy_all_contents(path, dataset_folder)\n"
   ]
  },
  {
   "cell_type": "code",
   "execution_count": 63,
   "id": "af551be9",
   "metadata": {},
   "outputs": [],
   "source": [
    "def preprocessData(dirName, ext):\n",
    "    allFiles = list()\n",
    "    for root, dirs, files in os.walk(dirName):\n",
    "        for file in files:\n",
    "            if file.endswith(ext):\n",
    "                allFiles.append(os.path.join(root, file))\n",
    "    shuffle(allFiles)\n",
    "    split = 0.7\n",
    "    split_index = floor(len(allFiles) * split)\n",
    "    training = allFiles[:split_index]\n",
    "    testing = allFiles[split_index:]\n",
    "    return training, testing\n",
    "\n",
    "def copyFiles(files, target):\n",
    "    for file in files:\n",
    "        target_folder = os.path.join(path_target, target, file.split('\\\\')[-2])\n",
    "        \n",
    "        if not os.path.exists(target_folder):\n",
    "            os.makedirs(target_folder)\n",
    "\n",
    "        shutil.copy2(file, target_folder)"
   ]
  },
  {
   "cell_type": "code",
   "execution_count": null,
   "id": "a78cf885",
   "metadata": {},
   "outputs": [],
   "source": [
    "path_target=os.path.join(os.getcwd(), 'dataset_preproc')\n",
    "\n",
    "if not os.path.exists(os.path.join(os.getcwd(), 'dataset_preproc')):\n",
    "    os.mkdir(os.path.join(os.getcwd(), 'dataset_preproc'))\n",
    "\n",
    "if not os.path.exists(os.path.join(path_target, 'train')):\n",
    "    os.mkdir(os.path.join(path_target, 'train'))\n",
    "\n",
    "if not os.path.exists(os.path.join(path_target, 'valid')):\n",
    "    os.mkdir(os.path.join(path_target, 'valid'))\n",
    "\n",
    "for t in ['train', 'valid']:\n",
    "    for folder in ['circle/', 'square/', 'star/', 'triangle/']:\n",
    "        if not os.path.exists(os.path.join(path_target, t, folder)):\n",
    "            os.mkdir(os.path.join(path_target, t, folder))\n",
    "\n",
    "training, testing = preprocessData(os.path.join(os.getcwd(), 'dataset_raw'), '.png')\n",
    "\n",
    "copyFiles(files = training, target = 'train')\n",
    "copyFiles(files = testing, target = 'valid')"
   ]
  },
  {
   "cell_type": "code",
   "execution_count": 66,
   "id": "7caea357",
   "metadata": {},
   "outputs": [],
   "source": [
    "simple_transform = transforms.Compose([transforms.Resize((64, 64))\n",
    "                                       ,transforms.ToTensor()\n",
    "                                       ,transforms.Normalize([0.485, 0.456, 0.406], [0.229, 0.224, 0.225])\n",
    "                                      ])"
   ]
  },
  {
   "cell_type": "code",
   "execution_count": 67,
   "id": "bfbe1708",
   "metadata": {},
   "outputs": [],
   "source": [
    "path_target=os.path.join(os.getcwd(), 'dataset_preproc')\n",
    "train_folder = os.path.join(path_target, 'train')\n",
    "valid_folder = os.path.join(path_target, 'valid')\n",
    "\n",
    "train = ImageFolder(train_folder,simple_transform)\n",
    "valid = ImageFolder(valid_folder,simple_transform)\n",
    "\n",
    "train_data_loader = torch.utils.data.DataLoader(train,batch_size=32,num_workers=3,shuffle=True)\n",
    "valid_data_loader = torch.utils.data.DataLoader(valid,batch_size=32,num_workers=3,shuffle=True)"
   ]
  },
  {
   "cell_type": "markdown",
   "id": "699f1f5c",
   "metadata": {},
   "source": [
    "# Definir y entrenar modelo"
   ]
  },
  {
   "cell_type": "markdown",
   "id": "e6e2283d",
   "metadata": {},
   "source": [
    "## Definicion del modelo\n",
    "\n",
    "Se untilizan dos capas convolucionales y dos capas fully connected."
   ]
  },
  {
   "cell_type": "code",
   "execution_count": 68,
   "id": "74277146",
   "metadata": {},
   "outputs": [],
   "source": [
    "class Net(nn.Module):\n",
    "    def __init__(self):\n",
    "        super().__init__()\n",
    "        self.conv1 = nn.Conv2d(3, 10, kernel_size=5)\n",
    "        self.conv2 = nn.Conv2d(10, 20, kernel_size=5)\n",
    "        self.conv2_drop = nn.Dropout2d()\n",
    "        self.fc1 = nn.Linear(3380, 50)\n",
    "        self.fc2 = nn.Linear(50, 4)\n",
    "\n",
    "\n",
    "    def forward(self, x):\n",
    "        x = F.relu(F.max_pool2d(self.conv1(x), 2))\n",
    "        x = F.relu(F.max_pool2d(self.conv2_drop(self.conv2(x)), 2))\n",
    "        x = x.view(x.size(0), -1)\n",
    "        x = F.relu(self.fc1(x))\n",
    "        x = F.dropout(x, training=self.training)\n",
    "        x = F.relu(self.fc2(x))\n",
    "        return F.log_softmax(x,dim=1)"
   ]
  },
  {
   "cell_type": "code",
   "execution_count": 70,
   "id": "2eadbc75",
   "metadata": {},
   "outputs": [],
   "source": [
    "def fit(epoch, model, data_loader, phase='training', volatile=False):\n",
    "    if phase == 'training':\n",
    "        model.train()\n",
    "    if phase == 'validation':\n",
    "        model.eval()\n",
    "        volatile = True\n",
    "    running_loss = 0.0\n",
    "    running_correct = 0\n",
    "    for batch_idx, (data, target) in enumerate(data_loader):\n",
    "        if is_cuda:\n",
    "            data, target = data.cuda(), target.cuda()\n",
    "        data, target = Variable(data, volatile), Variable(target)\n",
    "        if phase == 'training':\n",
    "            optimizer.zero_grad()\n",
    "        output = model(data)\n",
    "        loss = F.nll_loss(output, target)\n",
    "\n",
    "        #running_loss += F.nll_loss(output, target, size_average=False).data[0]\n",
    "        running_loss += F.nll_loss(output, target, size_average=False).data\n",
    "        preds = output.data.max(dim=1, keepdim=True)[1]\n",
    "        running_correct += preds.eq(target.data.view_as(preds)).cpu().sum()\n",
    "        if phase == 'training':\n",
    "            loss.backward()\n",
    "            optimizer.step()\n",
    "\n",
    "    loss = running_loss / len(data_loader.dataset)\n",
    "    accuracy = 100. * running_correct / len(data_loader.dataset)\n",
    "\n",
    "    print(f'{phase} loss is {loss} and {phase} accuracy is {running_correct}/{len(data_loader.dataset)} = {accuracy}')\n",
    "    return loss, accuracy"
   ]
  },
  {
   "cell_type": "markdown",
   "id": "0e242ce9",
   "metadata": {},
   "source": [
    "## Entrenamiento del modelo"
   ]
  },
  {
   "cell_type": "code",
   "execution_count": 73,
   "id": "85b240e0",
   "metadata": {},
   "outputs": [
    {
     "name": "stdout",
     "output_type": "stream",
     "text": [
      "training loss is 0.3690682053565979 and training accuracy is 8809/10479 = 84.06336212158203\n",
      "validation loss is 0.00796549767255783 and validation accuracy is 4486/4491 = 99.88866424560547\n",
      "training loss is 0.04845324531197548 and training accuracy is 10313/10479 = 98.41587829589844\n",
      "validation loss is 0.0013363426551222801 and validation accuracy is 4489/4491 = 99.9554672241211\n",
      "training loss is 0.030158597975969315 and training accuracy is 10377/10479 = 99.02662658691406\n",
      "validation loss is 0.0004356341087259352 and validation accuracy is 4490/4491 = 99.97772979736328\n",
      "training loss is 0.02421078458428383 and training accuracy is 10389/10479 = 99.1411361694336\n",
      "validation loss is 6.47647466394119e-05 and validation accuracy is 4491/4491 = 100.0\n"
     ]
    }
   ],
   "source": [
    "model = Net()\n",
    "optimizer = optim.SGD(model.parameters(),lr=0.01,momentum=0.5)\n",
    "train_losses , train_accuracy = [],[]\n",
    "val_losses , val_accuracy = [],[]\n",
    "for epoch in range(1,5):\n",
    "    epoch_loss, epoch_accuracy = fit(epoch,model,train_data_loader,phase='training')\n",
    "    val_epoch_loss , val_epoch_accuracy = fit(epoch,model,valid_data_loader,phase='validation')\n",
    "    train_losses.append(epoch_loss)\n",
    "    train_accuracy.append(epoch_accuracy)\n",
    "    val_losses.append(val_epoch_loss)\n",
    "    val_accuracy.append(val_epoch_accuracy)"
   ]
  },
  {
   "cell_type": "code",
   "execution_count": 74,
   "id": "25916be9",
   "metadata": {},
   "outputs": [
    {
     "data": {
      "image/png": "[encoded data removed]",
      "text/plain": [
       "<Figure size 640x480 with 1 Axes>"
      ]
     },
     "metadata": {},
     "output_type": "display_data"
    }
   ],
   "source": [
    "plt.plot(range(1, len(train_losses)+1), train_losses, 'bo', label='training loss')\n",
    "plt.plot(range(1, len(val_losses)+1), val_losses, 'r', label='validation loss')\n",
    "plt.legend()\n",
    "plt.show()"
   ]
  }
 ],
 "metadata": {
  "kernelspec": {
   "display_name": "Python 3",
   "language": "python",
   "name": "python3"
  },
  "language_info": {
   "codemirror_mode": {
    "name": "ipython",
    "version": 3
   },
   "file_extension": ".py",
   "mimetype": "text/x-python",
   "name": "python",
   "nbconvert_exporter": "python",
   "pygments_lexer": "ipython3",
   "version": "3.13.2"
  }
 },
 "nbformat": 4,
 "nbformat_minor": 5
}
